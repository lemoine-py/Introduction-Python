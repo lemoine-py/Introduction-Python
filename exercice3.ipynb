{
 "cells": [
  {
   "cell_type": "markdown",
   "metadata": {},
   "source": [
    "# Introduction au langage python\n",
    "\n",
    "## Exercices pratiques - série 3\n",
    "\n",
    "---"
   ]
  },
  {
   "cell_type": "markdown",
   "metadata": {},
   "source": [
    "### 1. Fonction rectangle\n",
    "\n",
    "Créer 2 fonctions `surface` et `perimetre`, qui prennent en arguments la longueur la largeur d'un rectangle.\n",
    "\n",
    "Calculer grâce à ces 2 fonctions la surface et le périmètre de n'importe quel rectangle <br> dont vous spécifierez postérieurement les dimensions, lors de l'appel de la fonction.\n"
   ]
  },
  {
   "cell_type": "code",
   "execution_count": null,
   "metadata": {
    "vscode": {
     "languageId": "plaintext"
    }
   },
   "outputs": [],
   "source": []
  },
  {
   "cell_type": "markdown",
   "metadata": {},
   "source": [
    "### 2. lorem ipsum"
   ]
  }
 ],
 "metadata": {
  "language_info": {
   "name": "python"
  }
 },
 "nbformat": 4,
 "nbformat_minor": 2
}
