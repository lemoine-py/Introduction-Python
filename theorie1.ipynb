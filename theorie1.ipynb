{
 "cells": [
  {
   "cell_type": "markdown",
   "metadata": {},
   "source": [
    "# Introduction au langage python\n",
    "\n",
    "## Théorie et pense-bête - Série 1\n",
    "\n",
    "---"
   ]
  },
  {
   "cell_type": "markdown",
   "metadata": {},
   "source": [
    "### Fonction `print()`"
   ]
  },
  {
   "cell_type": "code",
   "execution_count": null,
   "metadata": {},
   "outputs": [
    {
     "name": "stdout",
     "output_type": "stream",
     "text": [
      "1. La réponse à tout est 42 .\n",
      "2. La réponse à tout est 42.\n"
     ]
    }
   ],
   "source": [
    "a = 42\n",
    "print(\"1. La réponse à tout est\", a, \".\")\n",
    "\n",
    "# Autre manière: la \"f-string\"\n",
    "print(f\"2. La réponse à tout est {a}.\")"
   ]
  },
  {
   "cell_type": "markdown",
   "metadata": {},
   "source": [
    "- L'argument `end`\n",
    "\n",
    "L'argument `end = \"\"` qu'on ajoute dans les parenthèses de la fonction `print`, après une virgule, permet de séparer le prochain message qui sera affiché par un autre `print` avec ce qu'on écrit dans les guillemets.\n",
    "\n",
    "Par défaut, si on ne précise rien, on a toujours `end = \"\\n\"` ce qui équivaut à passer à la ligne.\n"
   ]
  },
  {
   "cell_type": "code",
   "execution_count": null,
   "metadata": {},
   "outputs": [
    {
     "name": "stdout",
     "output_type": "stream",
     "text": [
      "J'écris du texte et puis je vais à la ligne\n",
      "J'écris du texte mais je continue sur la même ligne.\n",
      "J'écris du texte; mais je le sépare d'un point-virgule.; autant de fois que je veux.; "
     ]
    }
   ],
   "source": [
    "print(\"J'écris du texte et puis je vais à la ligne\")\n",
    "print(\"J'écris du texte\", end=\"\")\n",
    "print(\" mais je continue sur la même ligne.\")\n",
    "print(\"J'écris du texte\", end=\"; \")\n",
    "print(\"mais je le sépare d'un point-virgule\", end=\"; \")\n",
    "print(\"autant de fois que je veux.\", end=\". \")\n",
    "\n"
   ]
  },
  {
   "cell_type": "markdown",
   "metadata": {},
   "source": [
    "### Fonction `input()`\n",
    "\n",
    "- Tout input est considéré *par défaut* comme une **chaîne de caractère**.\n",
    "- Il faut donc recourir à une conversion de type de variable selon la manipulation qu'on veut effectuer à l'input."
   ]
  },
  {
   "cell_type": "code",
   "execution_count": 1,
   "metadata": {},
   "outputs": [
    {
     "name": "stdout",
     "output_type": "stream",
     "text": [
      "12\n",
      "12 + 2 = 14.\n"
     ]
    }
   ],
   "source": [
    "q = input(\"Quel est ton nombre préféré ? \")\n",
    "print(q)\n",
    "\n",
    "# La fonction int(...) convertit q en un entier pour effectuer un calcul cohérent.\n",
    "print(f\"{q} + 2 = {int(q)+2}.\")"
   ]
  },
  {
   "cell_type": "markdown",
   "metadata": {},
   "source": [
    "### Types de variable et conversion\n",
    "\n",
    "- Chaîne de caractères ou \"string\" - `str`\n",
    "- Entier ou \"integer\" - `int`\n",
    "- Nombre à virgule (flottante) ou \"float\" - `float`\n",
    "- Booléen ou \"boolean\" - `bool`"
   ]
  },
  {
   "cell_type": "code",
   "execution_count": 31,
   "metadata": {},
   "outputs": [
    {
     "name": "stdout",
     "output_type": "stream",
     "text": [
      "Arrondir un nombre à virgule à l'entier inférieur: 5\n",
      "Préciser au sujet d'un nombre entier qu'il ne possède pas de chiffre après la virgule: 5.0\n",
      "Convertir du texte qui indique en réalité un nombre, en un \"vrai\" nombre: 123\n",
      "Toute variable non booléenne a la valeur booléenne \"True\" par défaut : True\n",
      "L'autre valeur booléenne possible est: False\n",
      "La valeur numérique de toute chose qui est \"True\" est: 1\n",
      "À l'inverse, la valeur booléenne de quelque chose de \"False\" est: 0\n"
     ]
    }
   ],
   "source": [
    "texte = \"abc\"\n",
    "texte_nombre = \"123\"\n",
    "entier = 5\n",
    "flottant = 5.5\n",
    "bol = True\n",
    "\n",
    "print(f\"Arrondir un nombre à virgule à l'entier inférieur: {int(flottant)}\")\n",
    "print(f\"Préciser au sujet d'un nombre entier qu'il ne possède pas de chiffre après la virgule: {float(entier)}\")\n",
    "\n",
    "print(f\"Convertir du texte qui indique en réalité un nombre, en un \\\"vrai\\\" nombre: {int(texte_nombre)}\")\n",
    "\n",
    "print(f\"Toute variable non booléenne a la valeur booléenne \\\"True\\\" par défaut : {bool(texte)}\")\n",
    "print(f\"L'autre valeur booléenne possible est: {not bol}\")\n",
    "\n",
    "print(f\"La valeur numérique de toute chose qui est \\\"{bol}\\\" est: {int(bol)}\")\n",
    "print(f\"À l'inverse, la valeur booléenne de quelque chose de \\\"False\\\" est: {int(not bol)}\")\n",
    "\n",
    "# print(f\"L'ordinateur essaie de se débrouiller quand on lui demande des choses illogiques: {int(texte)}\")\n",
    "# La ligne ci-dessus, si réellement exécutée, produit une erreur.\n"
   ]
  },
  {
   "cell_type": "markdown",
   "metadata": {},
   "source": [
    "### Opérations"
   ]
  },
  {
   "cell_type": "markdown",
   "metadata": {},
   "source": [
    "1. Opérations numériques:\n",
    "- Addition: `+`\n",
    "- Soustraction: `-`\n",
    "- Multiplication: `*`\n",
    "- Division: `/`\n",
    "\n",
    "- Exposant: `**`\n",
    "\n",
    "- Division euclidienne: `//` (comme en calcul écrit)\n",
    "- Reste de la division euclidienne: `%`\n",
    "\n",
    "- Modification de la valeur d'une variable, après opération: `+=`,`-=`,`*=`,`/=` ...\n"
   ]
  },
  {
   "cell_type": "code",
   "execution_count": 32,
   "metadata": {},
   "outputs": [
    {
     "name": "stdout",
     "output_type": "stream",
     "text": [
      "7\n",
      "3\n",
      "1\n"
     ]
    }
   ],
   "source": [
    "n = 5\n",
    "n += 2\n",
    "print(n)\n",
    "\n",
    "z = 10\n",
    "print(z // 3)\n",
    "print(z % 3)\n",
    "# Les espaces ne sont pas nécessaires entre les nombres et les opérateurs."
   ]
  },
  {
   "cell_type": "markdown",
   "metadata": {},
   "source": [
    "2. Opérateurs littéraires\n",
    "\n",
    "- Concaténation (addition): `+`\n",
    "- Répétition (multiplication): `*`\n",
    "\n",
    "- Indexation: `[...]`"
   ]
  },
  {
   "cell_type": "code",
   "execution_count": 33,
   "metadata": {},
   "outputs": [
    {
     "name": "stdout",
     "output_type": "stream",
     "text": [
      "escargotbrocoli\n",
      "escargotescargotescargot\n",
      "b r l\n",
      "t\n",
      "cargot\n",
      "bro\n"
     ]
    }
   ],
   "source": [
    "animal = \"escargot\"\n",
    "plante = \"brocoli\"\n",
    "\n",
    "print( animal + plante)\n",
    "\n",
    "print( animal * 3)\n",
    "\n",
    "print(plante[0], plante[1], plante[5])\n",
    "\n",
    "print(animal[-1])\n",
    "\n",
    "print(animal[2:])\n",
    "\n",
    "print(plante[:3])"
   ]
  },
  {
   "cell_type": "markdown",
   "metadata": {},
   "source": [
    "### "
   ]
  }
 ],
 "metadata": {
  "kernelspec": {
   "display_name": "Python 3",
   "language": "python",
   "name": "python3"
  },
  "language_info": {
   "codemirror_mode": {
    "name": "ipython",
    "version": 3
   },
   "file_extension": ".py",
   "mimetype": "text/x-python",
   "name": "python",
   "nbconvert_exporter": "python",
   "pygments_lexer": "ipython3",
   "version": "3.13.2"
  }
 },
 "nbformat": 4,
 "nbformat_minor": 2
}
