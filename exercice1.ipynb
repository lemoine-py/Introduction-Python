{
 "cells": [
  {
   "cell_type": "markdown",
   "metadata": {},
   "source": [
    "# Introduction au langage python\n",
    "\n",
    "## Exercices pratiques - série 1\n",
    "\n",
    "---"
   ]
  },
  {
   "cell_type": "markdown",
   "metadata": {},
   "source": [
    "### 1. Hello World !\n",
    "\n",
    "Écrivez un programme qui affiche une ligne blanche (sans rien d'écrit), puis une ligne avec `Hello World !`, puis une ligne blanche.\n"
   ]
  },
  {
   "cell_type": "code",
   "execution_count": null,
   "metadata": {},
   "outputs": [],
   "source": []
  },
  {
   "cell_type": "markdown",
   "metadata": {},
   "source": [
    "### 2. Présentation\n",
    "\n",
    "Demandez à l'utilisateur son prénom, puis son âge. Faites afficher la phrase: `Tu t'appelles <prénom> et tu as <âge> ans !`.\n",
    "\n",
    "Faites déclarer le programme qu'il s'appelle `Robot-<prénom>` et qu'il a 100 ans de plus que `<âge>` (afficher l'âge exact du robot). "
   ]
  },
  {
   "cell_type": "code",
   "execution_count": null,
   "metadata": {},
   "outputs": [],
   "source": []
  },
  {
   "cell_type": "markdown",
   "metadata": {},
   "source": [
    "### 3. Le rectangle\n",
    "\n",
    "Demandez une longueur et une largeur de rectangle à l'utilisateur.\n",
    "\n",
    "Calculez le périmètre et la surface du rectangle, et affichez les deux résultats."
   ]
  },
  {
   "cell_type": "code",
   "execution_count": null,
   "metadata": {},
   "outputs": [],
   "source": []
  },
  {
   "cell_type": "markdown",
   "metadata": {},
   "source": [
    "### 4. Moyenne arithmétique\n",
    "\n",
    "Demandez cinq nombres à l'utilisateur, puis calculez la moyenne de ces nombres.\n",
    "\n",
    "> Bonus : écrire le code en ne définissant qu'une seule variable."
   ]
  },
  {
   "cell_type": "code",
   "execution_count": null,
   "metadata": {},
   "outputs": [],
   "source": []
  }
 ],
 "metadata": {
  "kernelspec": {
   "display_name": "Python 3",
   "language": "python",
   "name": "python3"
  },
  "language_info": {
   "codemirror_mode": {
    "name": "ipython",
    "version": 3
   },
   "file_extension": ".py",
   "mimetype": "text/x-python",
   "name": "python",
   "nbconvert_exporter": "python",
   "pygments_lexer": "ipython3",
   "version": "3.12.1"
  }
 },
 "nbformat": 4,
 "nbformat_minor": 2
}
