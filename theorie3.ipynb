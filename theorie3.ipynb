{
 "cells": [
  {
   "cell_type": "markdown",
   "metadata": {},
   "source": [
    "# Introduction au langage python\n",
    "\n",
    "## Théorie et pense-bête - Série 3\n",
    "\n",
    "---"
   ]
  },
  {
   "cell_type": "markdown",
   "metadata": {},
   "source": [
    "## Les fonctions\n",
    "\n",
    "Les fonctions sont extrêmement utiles en python et en codage de manière générale.\n",
    "Elles permettent de définir une séquence de code, qu'on nomme par un nom arbitraire, et qui sera réutilisable ultérieurement dans le code à n'importe quel endroit.\n",
    "\n",
    "On commence un bloc fonction par `def nomdelafonction():`. Dans les parenthèses, on peut ajouter des *arguments*, séparés par des virgules s'il y en a plus que 1.\n",
    "\n",
    "La séquence de code qui définit la fonction doit être indentée de 4 espaces.\n",
    "\n",
    "On peut terminer cette séquence d'instructions par `return nomdevariable`, ce qui donnera à la fonction même la valeur de `nomdevariable`.\n",
    "\n",
    "Une fonction ne s'exécute pas toute seule, à moins qu'on ne l'ait appelée. Pour cela il suffit d'écrire dans une nouvelle ligne `nomdelafinction(arg1, arg2)` là où il faut exécuter la fonction."
   ]
  },
  {
   "cell_type": "code",
   "execution_count": 1,
   "metadata": {},
   "outputs": [
    {
     "name": "stdout",
     "output_type": "stream",
     "text": [
      "49\n"
     ]
    }
   ],
   "source": [
    "def square(side):\n",
    "    surface = side**2\n",
    "    return surface\n",
    "\n",
    "print(square(7)) # On choisit ce qu'on veut comme longueur de côté"
   ]
  },
  {
   "cell_type": "code",
   "execution_count": 2,
   "metadata": {},
   "outputs": [
    {
     "name": "stdout",
     "output_type": "stream",
     "text": [
      "Hello, my name is John, I am 34 years old and I live in Dusseldorf\n"
     ]
    }
   ],
   "source": [
    "def question():\n",
    "    name1 = input(\"What is your name? \")\n",
    "    age1 = int(input(\"How old are you? \"))\n",
    "    city1 = input(\"Where do you live? \")\n",
    "    return name1, age1, city1\n",
    "\n",
    "def identity(name, age, city):\n",
    "    return f\"Hello, my name is {name}, I am {age} years old and I live in {city}\"\n",
    "\n",
    "name2, age2, city2 = question()\n",
    "print(identity(name2, age2, city2))"
   ]
  }
 ],
 "metadata": {
  "kernelspec": {
   "display_name": "Python 3",
   "language": "python",
   "name": "python3"
  },
  "language_info": {
   "codemirror_mode": {
    "name": "ipython",
    "version": 3
   },
   "file_extension": ".py",
   "mimetype": "text/x-python",
   "name": "python",
   "nbconvert_exporter": "python",
   "pygments_lexer": "ipython3",
   "version": "3.13.0"
  }
 },
 "nbformat": 4,
 "nbformat_minor": 2
}
