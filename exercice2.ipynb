{
 "cells": [
  {
   "cell_type": "markdown",
   "metadata": {},
   "source": [
    "# Introduction au langage python\n",
    "\n",
    "## Exercices pratiques - série 2\n",
    "\n",
    "---"
   ]
  },
  {
   "cell_type": "markdown",
   "metadata": {},
   "source": [
    "### 1. Boucle while\n",
    "\n",
    "Afficher tous les nombres naturels entre 10 et 20, à l'aide d'une boucle while."
   ]
  },
  {
   "cell_type": "code",
   "execution_count": null,
   "metadata": {},
   "outputs": [],
   "source": []
  },
  {
   "cell_type": "markdown",
   "metadata": {},
   "source": [
    "### 2. Boucle for\n",
    "\n",
    "Demander à l'utilisateur son âge.\n",
    "\n",
    "Afficher, par une boucle for, le message `Hip hip hip, Hourra !` autant de fois que la valeur de l'âge de l'utilisateur.\n",
    "\n",
    "Changer le message affiché, seulement pour les trois derniers, par exemple en majuscules: `HIP HIP HIP HOURRA !`\n",
    "\n",
    "> Remarque: pour cet exercice et le suivant, on peut combiner des blocs if/else aux boucles for/while."
   ]
  },
  {
   "cell_type": "code",
   "execution_count": null,
   "metadata": {},
   "outputs": [],
   "source": []
  },
  {
   "cell_type": "markdown",
   "metadata": {},
   "source": [
    "### 3. Grille xy\n",
    "\n",
    "> Pour résoudre cet exercice, voir `theorie1.ipynb` et consulter la théorie de l'argument `end` de la fonction print.\n",
    "\n",
    "Demander à l'utilisateur un nombre x et un nombre y.\n",
    "\n",
    "À l'aide de boucles for, **sans recourir à la multiplication de chaîne de caractères**, afficher une grille de points de longueur horizontale x et de largeur verticale y.\n",
    "Essayer séparément de:\n",
    "- Afficher des \"o\" au lieu de points, sur la première colonne verticale.\n",
    "- Afficher des \"*\" au lieu de points, sur la première ligne horizontale.\n",
    "\n",
    "- Afficher des \"o\" sur la première et la dernière ligne horizontale.\n",
    "- Afficher des \"*\" sur la première et la dernière colonne verticale.\n",
    "\n"
   ]
  },
  {
   "cell_type": "markdown",
   "metadata": {},
   "source": [
    "### 4. à venir"
   ]
  }
 ],
 "metadata": {
  "kernelspec": {
   "display_name": "Python 3",
   "language": "python",
   "name": "python3"
  },
  "language_info": {
   "codemirror_mode": {
    "name": "ipython",
    "version": 3
   },
   "file_extension": ".py",
   "mimetype": "text/x-python",
   "name": "python",
   "nbconvert_exporter": "python",
   "pygments_lexer": "ipython3",
   "version": "3.13.0"
  }
 },
 "nbformat": 4,
 "nbformat_minor": 2
}
