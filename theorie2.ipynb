{
 "cells": [
  {
   "cell_type": "markdown",
   "metadata": {},
   "source": [
    "# Introduction au langage python\n",
    "\n",
    "## Théorie et pense-bête - Série 2\n",
    "\n",
    "---"
   ]
  },
  {
   "cell_type": "markdown",
   "metadata": {},
   "source": [
    "## Boucles for\n",
    "\n",
    "Python va \"lire\" de haut en bas l'intérieur de la boucle, et revenir en haut pour recommencer, le nombre de fois demandé.\n",
    "\n",
    "On écrit par exemple `for i in range(5):` pour répéter 5 fois les lignes de codes qui suivent. \n",
    "\n",
    "Le i est une variable à part entière, qui vaut d'abord 0, quand Python parcourt le bloc une première fois, puis 1, puis 2, puis 3, puis 4 (jusque le nombre de fois demandé dans le `range()` moins un). Cette variable i permet donc à Python d'exécuter le bloc de code à répéter, tout en gardant le compte du nombre de fois que le bloc a déja été exécuté.\n",
    "\n",
    "Les \"blocs\" de code, comme les boucles, nécéssitent une indentation adéquate: il faut laisser 4 cases d'espace avant de commencer tout code qui doit être répété.\n",
    "Pour continuer à écrire la suite du programme après une boucle, sans répéter tout le reste, il suffit de ne plus laisser ces 4 cases d'espace."
   ]
  },
  {
   "cell_type": "code",
   "execution_count": 2,
   "metadata": {},
   "outputs": [
    {
     "name": "stdout",
     "output_type": "stream",
     "text": [
      "Je suis à l'itération numéro 0 !\n",
      "Je suis à l'itération numéro 1 !\n",
      "Je suis à l'itération numéro 2 !\n",
      "Je suis à l'itération numéro 3 !\n",
      "Je suis à l'itération numéro 4 !\n",
      "Je suis à l'itération numéro 5 !\n",
      "Je suis à l'itération numéro 6 !\n",
      "Je suis à l'itération numéro 7 !\n",
      "fin des itérations\n"
     ]
    }
   ],
   "source": [
    "for i in range(8):\n",
    "    print(f\"Je suis à l'itération numéro {i} !\")\n",
    "print(\"fin des itérations\")"
   ]
  },
  {
   "cell_type": "markdown",
   "metadata": {},
   "source": [
    "## Boucles while\n",
    "\n",
    "Les boucles while vérifient si ce qui suit le `while` est une variable ou une déclaration de valeur booléenne `True`ou pas. Si effectivement la varaible est `True`, alors le code qui suit dans le bloc est répété. Une fois arrivé à la fin du bloc, Python recommence depuis le début, à partir de l'action de vérifier si la variable est toujours `True`ou pas. Dès que la variable de début est `False`, la boucle s'arrête.\n",
    "\n",
    "La boucle while peut être utilisée comme alternative à la boucle for.\n",
    "\n",
    "Attention, il faut nécessairement une ligne de code qui modifie quelque variable à l'intérieur de la boucle while, sinon la condition de base restera toujours la même (et donc a priori `True`). Dans ce cas malheureux, la boucle tournera à l'infini, laissant Python répéter la même action jusqu'à la fin des temps..."
   ]
  },
  {
   "cell_type": "code",
   "execution_count": 1,
   "metadata": {},
   "outputs": [
    {
     "name": "stdout",
     "output_type": "stream",
     "text": [
      "Je suis à l'itération numéro 0 !\n",
      "Je suis à l'itération numéro 1 !\n",
      "Je suis à l'itération numéro 2 !\n",
      "Je suis à l'itération numéro 3 !\n",
      "Je suis à l'itération numéro 4 !\n",
      "Je suis à l'itération numéro 5 !\n",
      "Je suis à l'itération numéro 6 !\n",
      "Je suis à l'itération numéro 7 !\n",
      "fin des itérations\n"
     ]
    }
   ],
   "source": [
    "n = 0\n",
    "while n < 8:\n",
    "    print(f\"Je suis à l'itération numéro {n} !\")\n",
    "    n += 1 # la variable n est incrémentée de 1\n",
    "print(\"fin des itérations\")\n"
   ]
  },
  {
   "cell_type": "markdown",
   "metadata": {},
   "source": [
    "## Conditions if/else\n",
    "\n",
    "Les conditions, comme le nom l'indique, permettent d'effectuer ou non certaines lignes de code en fonction de la véracité d'une condition.\n",
    "\n",
    "On commence un bloc if avec `if` + une variable ou une condition qui prend une certaine valeur booléenne.\n",
    "Si la condition suivant `if` est vraie, le code qui suit sera exécuté.\n",
    "Pour ajouter une autre condition, incompatible avec la première, on utilise `elif`.\n",
    "\n",
    "La commande qui exprime le \"sinon\" est simplement `else`, et le code qui suit s'exécute si et seulement si aucune des autres conditions if et elif n'étaient respectées."
   ]
  },
  {
   "cell_type": "code",
   "execution_count": 4,
   "metadata": {},
   "outputs": [
    {
     "name": "stdout",
     "output_type": "stream",
     "text": [
      "Vous êtes mineur.\n",
      "Vous avez tout juste 18 ans.\n",
      "Vous êtes majeur.\n",
      "fin du programme\n"
     ]
    }
   ],
   "source": [
    "age = 17\n",
    "\n",
    "if age < 18:\n",
    "    print(\"Vous êtes mineur.\")\n",
    "elif age == 18:\n",
    "    print(\"Vous avez tout juste 18 ans.\")\n",
    "else:\n",
    "    print(\"Vous êtes majeur.\")\n",
    "    \n",
    "age = 18\n",
    "\n",
    "if age < 18:\n",
    "    print(\"Vous êtes mineur.\")\n",
    "elif age == 18:\n",
    "    print(\"Vous avez tout juste 18 ans.\")\n",
    "else:\n",
    "    print(\"Vous êtes majeur.\")\n",
    "\n",
    "age = 19\n",
    "\n",
    "if age < 18:\n",
    "    print(\"Vous êtes mineur.\")\n",
    "elif age == 18:\n",
    "    print(\"Vous avez tout juste 18 ans.\")\n",
    "else:\n",
    "    print(\"Vous êtes majeur.\")\n",
    "\n",
    "print(\"fin du programme\")\n"
   ]
  },
  {
   "cell_type": "markdown",
   "metadata": {},
   "source": [
    "## Connecteurs logiques\n",
    "\n",
    "Parmi les opérateurs logiques, on compte les `and`, les `not` et les `or`.\n",
    "- Si on veut que deux conditions (ou plus) soient toutes les deux vraies, on connecte les deux avec `and`.\n",
    "- Si on tolère que seulement une des deux soit vraie, on connecte les deux avec `or`.\n",
    "- Si on veut exprimer la valeur booléenne inverse d'une condition, on appose un `not` devant.\n",
    "\n",
    "On utilise typiquement ces opérateurs logiques pour créer des conditions, pour les boucles while ou les blocs if/else.\n"
   ]
  },
  {
   "cell_type": "code",
   "execution_count": 7,
   "metadata": {},
   "outputs": [
    {
     "name": "stdout",
     "output_type": "stream",
     "text": [
      "True\n",
      "False\n",
      "True\n",
      "True\n",
      "False\n",
      "False\n",
      "True\n"
     ]
    }
   ],
   "source": [
    "a = 3\n",
    "b = 5\n",
    "\n",
    "print(a < b and a > 0) # Les deux sont vraies, donc True\n",
    "print(a < b and a < 0) # La première est vraie, mais pas la seconde, donc False\n",
    "\n",
    "print(a < b or a > 0) # La première est vraie, donc True (même si la seconde est fausse)\t\n",
    "print(a < b or a < 0) # Les deux sont fausses, donc False\n",
    "print(a > b or a < 0) # La seconde est vraie, donc True (même si la première est fausse)\n",
    "\n",
    "print(not a < b) # False\n",
    "print(not a > b) # True\n"
   ]
  }
 ],
 "metadata": {
  "kernelspec": {
   "display_name": "Python 3",
   "language": "python",
   "name": "python3"
  },
  "language_info": {
   "codemirror_mode": {
    "name": "ipython",
    "version": 3
   },
   "file_extension": ".py",
   "mimetype": "text/x-python",
   "name": "python",
   "nbconvert_exporter": "python",
   "pygments_lexer": "ipython3",
   "version": "3.13.2"
  }
 },
 "nbformat": 4,
 "nbformat_minor": 2
}
